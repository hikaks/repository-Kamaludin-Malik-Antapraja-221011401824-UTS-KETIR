{
 "cells": [
  {
   "cell_type": "code",
   "execution_count": 25,
   "id": "ecc55079-05e3-4bea-a3d8-e0e41eeb9a8d",
   "metadata": {},
   "outputs": [],
   "source": [
    "# Data\n",
    "\n",
    "company_detail_list = [\n",
    "      {\n",
    "          'name': 'Company 1',\n",
    "          'domain': 'Retail',\n",
    "          'country': 'United States'\n",
    "      },\n",
    "      {\n",
    "          'name': 'Company 2',\n",
    "          'domain': 'Technology',\n",
    "          'country': 'United Kingdom'\n",
    "      },\n",
    "      {\n",
    "          'name': 'Company 3',\n",
    "          'domain': 'Healthcare',\n",
    "          'country': 'United States'\n",
    "      }\n",
    "  ]\n",
    "\n",
    "employee_detail_list = [\n",
    "     {\n",
    "          'name': 'EMP-0001',\n",
    "          'first_name': 'John',\n",
    "          'last_name': 'Doe',\n",
    "          'full_name': 'John Doe',\n",
    "          'company': 'Company 1',\n",
    "          'nationality': 'Australia'\n",
    "      },\n",
    "      {\n",
    "          'name': 'EMP-0002',\n",
    "          'first_name': 'Tom',\n",
    "          'last_name': 'Smith',\n",
    "          'full_name': 'Tom Smith',\n",
    "          'company': 'Company 2',\n",
    "          'nationality': 'United States'\n",
    "      },\n",
    "      {\n",
    "          'name': 'EMP-0003',\n",
    "          'first_name': 'Andrew',\n",
    "          'last_name': 'Sebastian',\n",
    "          'full_name': 'Andrew Sebastian',\n",
    "          'company': 'Company 3',\n",
    "          'nationality': 'United States'\n",
    "      },\n",
    "      {\n",
    "          'name': 'EMP-0005',\n",
    "          'first_name': 'Ying Han',\n",
    "          'last_name': 'Tan',\n",
    "          'full_name': 'Ying Han Tan',\n",
    "          'company': 'Company 1',\n",
    "          'nationality': 'Australia'\n",
    "      },\n",
    "      {\n",
    "          'name': 'EMP-0015',\n",
    "          'first_name': 'Kenneth',\n",
    "          'last_name': 'Ng',\n",
    "          'full_name': 'Kenneth Ng',\n",
    "          'company': 'Company 3',\n",
    "          'nationality': 'United States'\n",
    "      },\n",
    "      {\n",
    "          'name': 'EMP-0018',\n",
    "          'first_name': 'Rubby',\n",
    "          'last_name': 'Lee',\n",
    "          'full_name': 'Rubby Lee',\n",
    "          'company': 'Company 2',\n",
    "          'nationality': 'Hong Kong'\n",
    "      },\n",
    "     {\n",
    "          'name': 'EMP-0017',\n",
    "          'first_name': 'Robert',\n",
    "          'last_name': 'White',\n",
    "          'full_name': 'Robert White',\n",
    "          'company': 'Company 1',\n",
    "          'nationality': 'United Kingdom'\n",
    "      }\n",
    "  ]\n"
   ]
  },
  {
   "cell_type": "code",
   "execution_count": 12,
   "id": "79e54393-274b-4624-a55f-cfdd4e5fdf0b",
   "metadata": {},
   "outputs": [
    {
     "name": "stdout",
     "output_type": "stream",
     "text": [
      "[{'name': 'Company 3', 'domain': 'Healthcare', 'country': 'United States'}, {'name': 'Company 2', 'domain': 'Technology', 'country': 'United Kingdom'}, {'name': 'Company 1', 'domain': 'Retail', 'country': 'United States'}]\n"
     ]
    }
   ],
   "source": [
    "# nomor 1\n",
    "print(sorted_companies)"
   ]
  },
  {
   "cell_type": "code",
   "execution_count": 4,
   "id": "5a46488c-252f-4e1f-aa76-ce5b014b7a83",
   "metadata": {},
   "outputs": [
    {
     "name": "stdout",
     "output_type": "stream",
     "text": [
      "Company 1: Retail (United States)\n",
      "Company 2: Technology (United Kingdom)\n",
      "Company 3: Healthcare (United States)\n"
     ]
    }
   ],
   "source": [
    "#nomor 2\n",
    "for company in datacompany_detail_list:\n",
    "    print(f\"{company['name']}: {company['domain']} ({company['country']})\")"
   ]
  },
  {
   "cell_type": "code",
   "execution_count": 11,
   "id": "831a1e65-c136-45f3-8c73-cb7416afd65c",
   "metadata": {},
   "outputs": [
    {
     "name": "stdout",
     "output_type": "stream",
     "text": [
      "{'Retail': ['John Doe', 'Ying Han Tan', 'Robert White'], 'Technology': ['Tom Smith', 'Ruby Lee'], 'Healthcare': ['Andrew Sebastian', 'Kenneth Ng']}\n"
     ]
    }
   ],
   "source": [
    "# nomor 3\n",
    "employees_by_domain = {}\n",
    "for company in company_detail_list:\n",
    "    domain = company['domain']\n",
    "    employees_by_domain.setdefault(domain, []).extend(\n",
    "        employee['full_name'] for employee in employee_detail_list if employee['company'] == company['name']\n",
    "    )\n",
    "\n",
    "print(employees_by_domain)"
   ]
  },
  {
   "cell_type": "code",
   "execution_count": 23,
   "id": "0c0a8186-5f12-4e88-8ce2-a10d0aa351d8",
   "metadata": {},
   "outputs": [
    {
     "name": "stdout",
     "output_type": "stream",
     "text": [
      "{'Company 1': [('John Doe', 'United States'), ('Ying Han Tan', 'United States'), ('Robert White', 'United States')], 'Company 2': [('Tom Smith', 'United Kingdom'), ('Ruby Lee', 'United Kingdom')], 'Company 3': [('Andrew Sebastian', 'United States'), ('Kenneth Ng', 'United States')]}\n"
     ]
    }
   ],
   "source": [
    "#nomor 4\n",
    "def employees_by_company_country(company_details, employee_details):\n",
    "   \n",
    "    company_employees = {}\n",
    "    for company in company_details:\n",
    "        company_name = company['name']\n",
    "        company_country = company['country']\n",
    "        company_employees[company_name] = []\n",
    "        for employee in employee_details:\n",
    "            if employee['company'] == company_name:\n",
    "                company_employees[company_name].append((employee['full_name'], company_country))\n",
    "    return company_employees\n",
    "\n",
    "result = employees_by_company_country(datacompany_detail_list, employee_detail_list)\n",
    "print(result)"
   ]
  },
  {
   "cell_type": "code",
   "execution_count": 24,
   "id": "b9af70b4-9170-43d8-8016-6ea026c41f46",
   "metadata": {},
   "outputs": [
    {
     "name": "stdout",
     "output_type": "stream",
     "text": [
      "{'Company 1': {'Australia': 2, 'United Kingdom': 1}, 'Company 2': {'United States': 1, 'Hong Kong': 1}, 'Company 3': {'United States': 2}}\n"
     ]
    }
   ],
   "source": [
    "#nomor 5\n",
    "def companies_with_employee_nationalities(company_details, employee_details):\n",
    "  \n",
    "    company_nationalities = {}\n",
    "    for company in company_details:\n",
    "        company_name = company['name']\n",
    "        company_nationalities[company_name] = {}\n",
    "        for employee in employee_details:\n",
    "            if employee['company'] == company_name:\n",
    "                nationality = employee['nationality']\n",
    "                company_nationalities[company_name][nationality] = company_nationalities[company_name].get(nationality, 0) + 1\n",
    "    return company_nationalities\n",
    "\n",
    "result = companies_with_employee_nationalities(datacompany_detail_list, employee_detail_list)\n",
    "print(result)"
   ]
  },
  {
   "cell_type": "code",
   "execution_count": null,
   "id": "a1baf4b4-0c1e-42ff-b16f-be9fc3051f25",
   "metadata": {},
   "outputs": [],
   "source": []
  }
 ],
 "metadata": {
  "kernelspec": {
   "display_name": "Python 3 (ipykernel)",
   "language": "python",
   "name": "python3"
  },
  "language_info": {
   "codemirror_mode": {
    "name": "ipython",
    "version": 3
   },
   "file_extension": ".py",
   "mimetype": "text/x-python",
   "name": "python",
   "nbconvert_exporter": "python",
   "pygments_lexer": "ipython3",
   "version": "3.10.8"
  }
 },
 "nbformat": 4,
 "nbformat_minor": 5
}
